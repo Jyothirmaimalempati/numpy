{
 "cells": [
  {
   "cell_type": "code",
   "execution_count": 3,
   "id": "ff646ab0",
   "metadata": {},
   "outputs": [
    {
     "name": "stdout",
     "output_type": "stream",
     "text": [
      "[1 2 3]\n",
      "<class 'numpy.ndarray'>\n"
     ]
    }
   ],
   "source": [
    "import numpy as np\n",
    "n=np.array([1,2,3])\n",
    "print(n)\n",
    "print(type(n))"
   ]
  },
  {
   "cell_type": "code",
   "execution_count": 8,
   "id": "45899556",
   "metadata": {},
   "outputs": [
    {
     "name": "stdout",
     "output_type": "stream",
     "text": [
      "0\n",
      "54\n"
     ]
    }
   ],
   "source": [
    "import numpy as np\n",
    "n=np.array(54)\n",
    "print(n.ndim)         # to know dimension that is 0\n",
    "print(n)"
   ]
  },
  {
   "cell_type": "code",
   "execution_count": 9,
   "id": "df15d59b",
   "metadata": {},
   "outputs": [
    {
     "name": "stdout",
     "output_type": "stream",
     "text": [
      "[[1 2 3]\n",
      " [4 5 6]]\n",
      "2\n"
     ]
    }
   ],
   "source": [
    "import numpy as np\n",
    "n=np.array([[1,2,3],[4,5,6]])\n",
    "print(n)\n",
    "print(n.ndim)"
   ]
  },
  {
   "cell_type": "code",
   "execution_count": 10,
   "id": "cc640a63",
   "metadata": {},
   "outputs": [
    {
     "name": "stdout",
     "output_type": "stream",
     "text": [
      "[[0. 0. 0.]\n",
      " [0. 0. 0.]]\n",
      "2\n"
     ]
    }
   ],
   "source": [
    "#inlizations with zeros\n",
    "import numpy as np\n",
    "n=np.zeros([2,3])\n",
    "print(n)\n",
    "print(n.ndim)"
   ]
  },
  {
   "cell_type": "code",
   "execution_count": 12,
   "id": "f08d2aaf",
   "metadata": {},
   "outputs": [
    {
     "name": "stdout",
     "output_type": "stream",
     "text": [
      "[2 3]\n",
      "1\n"
     ]
    }
   ],
   "source": [
    "import numpy as np\n",
    "n=np.array([2,3])\n",
    "print(n)\n",
    "print(n.ndim)"
   ]
  },
  {
   "cell_type": "code",
   "execution_count": 13,
   "id": "559cc2b3",
   "metadata": {},
   "outputs": [
    {
     "name": "stdout",
     "output_type": "stream",
     "text": [
      "[[0. 0. 0. 0.]\n",
      " [0. 0. 0. 0.]\n",
      " [0. 0. 0. 0.]\n",
      " [0. 0. 0. 0.]]\n",
      "2\n"
     ]
    }
   ],
   "source": [
    "import numpy as np\n",
    "n=np.zeros([4,4])\n",
    "print(n)\n",
    "print(n.ndim)"
   ]
  },
  {
   "cell_type": "code",
   "execution_count": 15,
   "id": "9fba3ff1",
   "metadata": {},
   "outputs": [
    {
     "name": "stdout",
     "output_type": "stream",
     "text": [
      "[1 2 3]\n",
      "int32\n",
      "<class 'numpy.ndarray'>\n"
     ]
    }
   ],
   "source": [
    "import numpy as np\n",
    "n=np.array([1,2,3])\n",
    "print(n)\n",
    "print(n.dtype)\n",
    "print(type(n))"
   ]
  },
  {
   "cell_type": "code",
   "execution_count": 16,
   "id": "d7314442",
   "metadata": {},
   "outputs": [
    {
     "name": "stdout",
     "output_type": "stream",
     "text": [
      "['jyothi' 'ram' 'vani']\n",
      "<class 'numpy.ndarray'>\n",
      "<U6\n",
      "1\n"
     ]
    }
   ],
   "source": [
    "import numpy as np\n",
    "n=np.array([\"jyothi\",\"ram\",\"vani\"])\n",
    "print(n)\n",
    "print(type(n))\n",
    "print(n.dtype)\n",
    "print(n.ndim)"
   ]
  },
  {
   "cell_type": "code",
   "execution_count": 17,
   "id": "f5b3618f",
   "metadata": {},
   "outputs": [
    {
     "name": "stdout",
     "output_type": "stream",
     "text": [
      "['a' 'b' 'c']\n",
      "<U1\n",
      "<class 'numpy.ndarray'>\n",
      "1\n"
     ]
    }
   ],
   "source": [
    "import numpy as np\n",
    "n=np.array([\"a\",\"b\",\"c\"])\n",
    "print(n)\n",
    "print(n.dtype)\n",
    "print(type(n))\n",
    "print(n.ndim)"
   ]
  },
  {
   "cell_type": "code",
   "execution_count": 23,
   "id": "485bcbc2",
   "metadata": {},
   "outputs": [
    {
     "name": "stdout",
     "output_type": "stream",
     "text": [
      "|S5\n",
      "<class 'numpy.ndarray'>\n",
      "1\n",
      "[b'jyoth' b'ram']\n"
     ]
    }
   ],
   "source": [
    "import numpy as np\n",
    "n=np.array([\"jyothi\",\"ram\"],dtype='S5')\n",
    "print(n.dtype)\n",
    "print(type(n))\n",
    "print(n.ndim)\n",
    "print(n)"
   ]
  },
  {
   "cell_type": "code",
   "execution_count": 24,
   "id": "4b338557",
   "metadata": {},
   "outputs": [
    {
     "name": "stdout",
     "output_type": "stream",
     "text": [
      "|S5\n",
      "<class 'numpy.ndarray'>\n",
      "1\n",
      "[b'j' b'r']\n"
     ]
    }
   ],
   "source": [
    "import numpy as np\n",
    "n=np.array([\"j\",\"r\"],dtype='S5')\n",
    "print(n.dtype)\n",
    "print(type(n))\n",
    "print(n.ndim)\n",
    "print(n)"
   ]
  },
  {
   "cell_type": "code",
   "execution_count": 29,
   "id": "71f32e92",
   "metadata": {},
   "outputs": [
    {
     "name": "stdout",
     "output_type": "stream",
     "text": [
      "['10' '21' '31']\n",
      "<U2\n",
      "[10 21 31]\n",
      "int32\n"
     ]
    }
   ],
   "source": [
    "import numpy as np\n",
    "n=np.array(['10','21','31'])\n",
    "print(n)\n",
    "print(n.dtype)\n",
    "n1=n.astype('i')\n",
    "print(n1)\n",
    "print(n1.dtype)\n"
   ]
  },
  {
   "cell_type": "code",
   "execution_count": 21,
   "id": "6100f8bc",
   "metadata": {},
   "outputs": [
    {
     "name": "stdout",
     "output_type": "stream",
     "text": [
      "[1 2 3]\n",
      "1\n",
      "3\n"
     ]
    }
   ],
   "source": [
    "#indexing\n",
    "import numpy as np\n",
    "n=np.array([1,2,3])\n",
    "print(n)\n",
    "print(n[0])\n",
    "print(n[-1])"
   ]
  },
  {
   "cell_type": "code",
   "execution_count": 22,
   "id": "fcd81398",
   "metadata": {},
   "outputs": [
    {
     "name": "stdout",
     "output_type": "stream",
     "text": [
      "[[1 2 3]\n",
      " [4 5 6]]\n",
      "1\n",
      "2\n",
      "3\n",
      "4\n",
      "5\n",
      "6\n",
      "6\n"
     ]
    }
   ],
   "source": [
    "import numpy as np\n",
    "n=np.array([[1,2,3],[4,5,6]])\n",
    "print(n)\n",
    "print(n[0,0])\n",
    "print(n[0,1])\n",
    "print(n[0,2])\n",
    "print(n[1,0])\n",
    "print(n[1,1])\n",
    "print(n[1,2])\n",
    "print(n[1,-1])"
   ]
  },
  {
   "cell_type": "code",
   "execution_count": 20,
   "id": "54c7ff7a",
   "metadata": {},
   "outputs": [
    {
     "name": "stdout",
     "output_type": "stream",
     "text": [
      "[[[1 2 3]\n",
      "  [4 5 6]]\n",
      "\n",
      " [[7 8 9]\n",
      "  [6 3 9]]]\n",
      "[1 2 3]\n",
      "[4 5 6]\n",
      "[7 8 9]\n",
      "[6 3 9]\n",
      "3\n"
     ]
    }
   ],
   "source": [
    "import numpy as np\n",
    "n=np.array([[[1,2,3],[4,5,6]],[[7,8,9],[6,3,9]]])\n",
    "print(n)\n",
    "print(n[0,0])\n",
    "print(n[0,1])\n",
    "print(n[1,0])\n",
    "print(n[1,1])\n",
    "print(n.ndim)\n"
   ]
  },
  {
   "cell_type": "code",
   "execution_count": 2,
   "id": "7b649335",
   "metadata": {},
   "outputs": [
    {
     "name": "stdout",
     "output_type": "stream",
     "text": [
      "[1 2 3 4]\n",
      "<class 'numpy.ndarray'>\n",
      "int32\n",
      "1\n",
      "1\n",
      "2\n",
      "3\n",
      "4\n"
     ]
    }
   ],
   "source": [
    "# itarating numpy 1 dim arrays\n",
    "import numpy as np\n",
    "n=np.array([1,2,3,4])\n",
    "print(n)\n",
    "print(type(n))\n",
    "print(n.dtype)\n",
    "print(n.ndim)\n",
    "for i in n:\n",
    "    print(i)"
   ]
  },
  {
   "cell_type": "code",
   "execution_count": 6,
   "id": "9cbc0c66",
   "metadata": {},
   "outputs": [
    {
     "name": "stdout",
     "output_type": "stream",
     "text": [
      "[[1 2 3]\n",
      " [4 5 6]]\n",
      "<class 'numpy.ndarray'>\n",
      "int32\n",
      "2\n",
      "[1 2 3]\n",
      "[4 5 6]\n"
     ]
    }
   ],
   "source": [
    "# itrating numpy 2 dim array\n",
    "import numpy as np\n",
    "n=np.array([[1,2,3],[4,5,6]])\n",
    "print(n)\n",
    "print(type(n))\n",
    "print(n.dtype)\n",
    "print(n.ndim)\n",
    "for i in n:\n",
    "    print(i)"
   ]
  },
  {
   "cell_type": "code",
   "execution_count": 11,
   "id": "37582db6",
   "metadata": {},
   "outputs": [
    {
     "name": "stdout",
     "output_type": "stream",
     "text": [
      "[1 2 3 4 5 6 7 8]\n",
      "1\n",
      "2\n",
      "3\n",
      "4\n",
      "5\n",
      "6\n",
      "7\n",
      "8\n"
     ]
    }
   ],
   "source": [
    "# joining of tow or more arrays\n",
    "import numpy as np\n",
    "n1=np.array([1,2,3,4])\n",
    "n2=np.array([5,6,7,8])\n",
    "join=np.concatenate((n1,n2))\n",
    "print(join)\n",
    "for i in n1:\n",
    "    print(i)\n",
    "for j in n2:\n",
    "    print(j)"
   ]
  },
  {
   "cell_type": "code",
   "execution_count": null,
   "id": "a7073e0e",
   "metadata": {},
   "outputs": [],
   "source": []
  }
 ],
 "metadata": {
  "kernelspec": {
   "display_name": "Python 3 (ipykernel)",
   "language": "python",
   "name": "python3"
  },
  "language_info": {
   "codemirror_mode": {
    "name": "ipython",
    "version": 3
   },
   "file_extension": ".py",
   "mimetype": "text/x-python",
   "name": "python",
   "nbconvert_exporter": "python",
   "pygments_lexer": "ipython3",
   "version": "3.11.5"
  }
 },
 "nbformat": 4,
 "nbformat_minor": 5
}
